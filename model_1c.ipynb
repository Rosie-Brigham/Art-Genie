{
  "nbformat": 4,
  "nbformat_minor": 0,
  "metadata": {
    "accelerator": "GPU",
    "colab": {
      "name": "Copy of model_4.ipynb",
      "provenance": [],
      "collapsed_sections": [],
      "include_colab_link": true
    },
    "kernelspec": {
      "display_name": "Python 3",
      "name": "python3"
    },
    "widgets": {
      "application/vnd.jupyter.widget-state+json": {
        "aaa2bad8809840f4afcd61b01b47b680": {
          "model_module": "@jupyter-widgets/controls",
          "model_name": "HBoxModel",
          "model_module_version": "1.5.0",
          "state": {
            "_view_name": "HBoxView",
            "_dom_classes": [],
            "_model_name": "HBoxModel",
            "_view_module": "@jupyter-widgets/controls",
            "_model_module_version": "1.5.0",
            "_view_count": null,
            "_view_module_version": "1.5.0",
            "box_style": "",
            "layout": "IPY_MODEL_b0ca6b8fcb754cde8cf65da4c3f4e134",
            "_model_module": "@jupyter-widgets/controls",
            "children": [
              "IPY_MODEL_d6114c46a08c415ebd5aabfa6eaafdaf",
              "IPY_MODEL_b66139df248c485dbc70ec64165a21bc"
            ]
          }
        },
        "b0ca6b8fcb754cde8cf65da4c3f4e134": {
          "model_module": "@jupyter-widgets/base",
          "model_name": "LayoutModel",
          "model_module_version": "1.2.0",
          "state": {
            "_view_name": "LayoutView",
            "grid_template_rows": null,
            "right": null,
            "justify_content": null,
            "_view_module": "@jupyter-widgets/base",
            "overflow": null,
            "_model_module_version": "1.2.0",
            "_view_count": null,
            "flex_flow": null,
            "width": null,
            "min_width": null,
            "border": null,
            "align_items": null,
            "bottom": null,
            "_model_module": "@jupyter-widgets/base",
            "top": null,
            "grid_column": null,
            "overflow_y": null,
            "overflow_x": null,
            "grid_auto_flow": null,
            "grid_area": null,
            "grid_template_columns": null,
            "flex": null,
            "_model_name": "LayoutModel",
            "justify_items": null,
            "grid_row": null,
            "max_height": null,
            "align_content": null,
            "visibility": null,
            "align_self": null,
            "height": null,
            "min_height": null,
            "padding": null,
            "grid_auto_rows": null,
            "grid_gap": null,
            "max_width": null,
            "order": null,
            "_view_module_version": "1.2.0",
            "grid_template_areas": null,
            "object_position": null,
            "object_fit": null,
            "grid_auto_columns": null,
            "margin": null,
            "display": null,
            "left": null
          }
        },
        "d6114c46a08c415ebd5aabfa6eaafdaf": {
          "model_module": "@jupyter-widgets/controls",
          "model_name": "FloatProgressModel",
          "model_module_version": "1.5.0",
          "state": {
            "_view_name": "ProgressView",
            "style": "IPY_MODEL_7f0ad945461a48939ba4e99a7fbc0d5b",
            "_dom_classes": [],
            "description": "100%",
            "_model_name": "FloatProgressModel",
            "bar_style": "success",
            "max": 52147035,
            "_view_module": "@jupyter-widgets/controls",
            "_model_module_version": "1.5.0",
            "value": 52147035,
            "_view_count": null,
            "_view_module_version": "1.5.0",
            "orientation": "horizontal",
            "min": 0,
            "description_tooltip": null,
            "_model_module": "@jupyter-widgets/controls",
            "layout": "IPY_MODEL_8546eca9b41a4cf29cc691c3aa197077"
          }
        },
        "b66139df248c485dbc70ec64165a21bc": {
          "model_module": "@jupyter-widgets/controls",
          "model_name": "HTMLModel",
          "model_module_version": "1.5.0",
          "state": {
            "_view_name": "HTMLView",
            "style": "IPY_MODEL_8663078455d44c49b3f062d7088620a8",
            "_dom_classes": [],
            "description": "",
            "_model_name": "HTMLModel",
            "placeholder": "​",
            "_view_module": "@jupyter-widgets/controls",
            "_model_module_version": "1.5.0",
            "value": " 49.7M/49.7M [00:00&lt;00:00, 65.8MB/s]",
            "_view_count": null,
            "_view_module_version": "1.5.0",
            "description_tooltip": null,
            "_model_module": "@jupyter-widgets/controls",
            "layout": "IPY_MODEL_8637a58dc6f440909bb2e33780f579cc"
          }
        },
        "7f0ad945461a48939ba4e99a7fbc0d5b": {
          "model_module": "@jupyter-widgets/controls",
          "model_name": "ProgressStyleModel",
          "model_module_version": "1.5.0",
          "state": {
            "_view_name": "StyleView",
            "_model_name": "ProgressStyleModel",
            "description_width": "initial",
            "_view_module": "@jupyter-widgets/base",
            "_model_module_version": "1.5.0",
            "_view_count": null,
            "_view_module_version": "1.2.0",
            "bar_color": null,
            "_model_module": "@jupyter-widgets/controls"
          }
        },
        "8546eca9b41a4cf29cc691c3aa197077": {
          "model_module": "@jupyter-widgets/base",
          "model_name": "LayoutModel",
          "model_module_version": "1.2.0",
          "state": {
            "_view_name": "LayoutView",
            "grid_template_rows": null,
            "right": null,
            "justify_content": null,
            "_view_module": "@jupyter-widgets/base",
            "overflow": null,
            "_model_module_version": "1.2.0",
            "_view_count": null,
            "flex_flow": null,
            "width": null,
            "min_width": null,
            "border": null,
            "align_items": null,
            "bottom": null,
            "_model_module": "@jupyter-widgets/base",
            "top": null,
            "grid_column": null,
            "overflow_y": null,
            "overflow_x": null,
            "grid_auto_flow": null,
            "grid_area": null,
            "grid_template_columns": null,
            "flex": null,
            "_model_name": "LayoutModel",
            "justify_items": null,
            "grid_row": null,
            "max_height": null,
            "align_content": null,
            "visibility": null,
            "align_self": null,
            "height": null,
            "min_height": null,
            "padding": null,
            "grid_auto_rows": null,
            "grid_gap": null,
            "max_width": null,
            "order": null,
            "_view_module_version": "1.2.0",
            "grid_template_areas": null,
            "object_position": null,
            "object_fit": null,
            "grid_auto_columns": null,
            "margin": null,
            "display": null,
            "left": null
          }
        },
        "8663078455d44c49b3f062d7088620a8": {
          "model_module": "@jupyter-widgets/controls",
          "model_name": "DescriptionStyleModel",
          "model_module_version": "1.5.0",
          "state": {
            "_view_name": "StyleView",
            "_model_name": "DescriptionStyleModel",
            "description_width": "",
            "_view_module": "@jupyter-widgets/base",
            "_model_module_version": "1.5.0",
            "_view_count": null,
            "_view_module_version": "1.2.0",
            "_model_module": "@jupyter-widgets/controls"
          }
        },
        "8637a58dc6f440909bb2e33780f579cc": {
          "model_module": "@jupyter-widgets/base",
          "model_name": "LayoutModel",
          "model_module_version": "1.2.0",
          "state": {
            "_view_name": "LayoutView",
            "grid_template_rows": null,
            "right": null,
            "justify_content": null,
            "_view_module": "@jupyter-widgets/base",
            "overflow": null,
            "_model_module_version": "1.2.0",
            "_view_count": null,
            "flex_flow": null,
            "width": null,
            "min_width": null,
            "border": null,
            "align_items": null,
            "bottom": null,
            "_model_module": "@jupyter-widgets/base",
            "top": null,
            "grid_column": null,
            "overflow_y": null,
            "overflow_x": null,
            "grid_auto_flow": null,
            "grid_area": null,
            "grid_template_columns": null,
            "flex": null,
            "_model_name": "LayoutModel",
            "justify_items": null,
            "grid_row": null,
            "max_height": null,
            "align_content": null,
            "visibility": null,
            "align_self": null,
            "height": null,
            "min_height": null,
            "padding": null,
            "grid_auto_rows": null,
            "grid_gap": null,
            "max_width": null,
            "order": null,
            "_view_module_version": "1.2.0",
            "grid_template_areas": null,
            "object_position": null,
            "object_fit": null,
            "grid_auto_columns": null,
            "margin": null,
            "display": null,
            "left": null
          }
        }
      }
    }
  },
  "cells": [
    {
      "cell_type": "markdown",
      "metadata": {
        "id": "view-in-github",
        "colab_type": "text"
      },
      "source": [
        "<a href=\"https://colab.research.google.com/github/Rosie-Brigham/Art-Genie/blob/master/model_1c.ipynb\" target=\"_parent\"><img src=\"https://colab.research.google.com/assets/colab-badge.svg\" alt=\"Open In Colab\"/></a>"
      ]
    },
    {
      "cell_type": "code",
      "metadata": {
        "id": "UCW5Hyz2TDeO"
      },
      "source": [
        "# Imports\n",
        "import torch\n",
        "import torch.nn as nn # All neural network modules, nn.Linear, nn.Conv2d, BatchNorm, Loss functions\n",
        "import torch.optim as optim # For all Optimization algorithms, SGD, Adam, etc.\n",
        "import torchvision.transforms as transforms # Transformations we can perform on our dataset\n",
        "import torchvision\n",
        "from torch.optim import lr_scheduler\n",
        "import time\n",
        "import copy\n",
        "\n",
        "import os\n",
        "import pandas as pd\n",
        "from skimage import io\n",
        "from torch.utils.data import Dataset, DataLoader # Gives easier dataset managment and creates mini batches\n",
        "from PIL import Image"
      ],
      "execution_count": null,
      "outputs": []
    },
    {
      "cell_type": "code",
      "metadata": {
        "colab": {
          "base_uri": "https://localhost:8080/"
        },
        "id": "LBLPp_zATVjJ",
        "outputId": "32ab9682-c16d-4944-c669-cb59c0fc713b"
      },
      "source": [
        "!git clone https://github.com/monumentalconservation/training-set-circle-6.git\n",
        "import os\n",
        "os.getcwd()\n",
        "\n",
        "labels = pd.read_csv(r'training-set-circle-6/image-list.csv')\n",
        "test_labels = pd.read_csv(r'training-set-circle-6/testing-image-list.csv')\n",
        "\n",
        "train_path = r'training-set-circle-6/images/'\n",
        "test_path = r'training-set-circle-6/testing-images/'"
      ],
      "execution_count": null,
      "outputs": [
        {
          "output_type": "stream",
          "text": [
            "Cloning into 'training-set-circle-6'...\n",
            "remote: Enumerating objects: 68, done.\u001b[K\n",
            "remote: Counting objects: 100% (68/68), done.\u001b[K\n",
            "remote: Compressing objects: 100% (58/58), done.\u001b[K\n",
            "remote: Total 176 (delta 11), reused 66 (delta 10), pack-reused 108\u001b[K\n",
            "Receiving objects: 100% (176/176), 152.16 MiB | 12.30 MiB/s, done.\n",
            "Resolving deltas: 100% (11/11), done.\n"
          ],
          "name": "stdout"
        }
      ]
    },
    {
      "cell_type": "code",
      "metadata": {
        "id": "ygCQZGxnMSB1"
      },
      "source": [
        "def quantify_rainfall(row):\n",
        "  if row['none'] == 1:\n",
        "    val = 0\n",
        "  elif row['some'] == 1:\n",
        "    val = 1\n",
        "  elif row['a lot'] == 1:\n",
        "    val = 1\n",
        "  elif row['substantial'] == 1:\n",
        "    val = 2\n",
        "  elif row['extensive'] == 1:\n",
        "    val = 2\n",
        "  else:\n",
        "    return \n",
        "  return val"
      ],
      "execution_count": null,
      "outputs": []
    },
    {
      "cell_type": "code",
      "metadata": {
        "id": "WuemHOfSNUhd"
      },
      "source": [
        "# Create nice datasets to pass into dataloader\n",
        "\n",
        "labels['class'] = labels.apply(quantify_rainfall, axis=1)\n",
        "labels = labels.drop(['none',\t'some',\t'a lot',\t'substantial',\t'extensive'], axis=1)\n",
        "\n",
        "test_labels['class'] = test_labels.apply(quantify_rainfall, axis=1)\n",
        "test_labels = test_labels.drop(['none',\t'some',\t'a lot',\t'substantial',\t'extensive'], axis=1)\n"
      ],
      "execution_count": null,
      "outputs": []
    },
    {
      "cell_type": "markdown",
      "metadata": {
        "id": "c5e6zNqQblmO"
      },
      "source": [
        "Thirs attempt at classification - following this tutorial: https://www.youtube.com/watch?v=ZoZHd0Zm3RY&ab_channel=AladdinPersson"
      ]
    },
    {
      "cell_type": "code",
      "metadata": {
        "id": "nJB_l6zdTO2M"
      },
      "source": [
        "# Dataloader\n",
        "class DampDataset(Dataset):\n",
        "    def __init__(self, dataframe, root_dir, transform=None):\n",
        "        self.annotations = dataframe\n",
        "        self.root_dir = root_dir\n",
        "        self.transform = transform\n",
        "\n",
        "    def __len__(self):\n",
        "        return len(self.annotations)\n",
        "\n",
        "    def __getitem__(self, index):\n",
        "        img_path = os.path.join(self.root_dir, str(self.annotations.iloc[index, 0]) + '.jpg')\n",
        "        image = io.imread(img_path)\n",
        "        y_label = torch.tensor(int(self.annotations.iloc[index, 1]))\n",
        "        if self.transform:\n",
        "            image = self.transform(image)\n",
        "\n",
        "        return (image, y_label)\n"
      ],
      "execution_count": null,
      "outputs": []
    },
    {
      "cell_type": "code",
      "metadata": {
        "id": "KPaianyNT8pf"
      },
      "source": [
        "\n",
        "# Set device\n",
        "device = torch.device('cuda' if torch.cuda.is_available() else 'cpu')\n",
        "\n",
        "# Transforms\n",
        "damp_transform = transforms.Compose(\n",
        "    [transforms.ToPILImage(),\n",
        "     transforms.Resize((256,256)), # needed as tuple because images in dataset are different\n",
        "     transforms.ToTensor(),\n",
        "     transforms.Normalize((0.5, 0.5, 0.5), (0.5, 0.5, 0.5))])\n",
        "\n",
        "\n",
        "# Hyperparameters\n",
        "# in_channel = 3\n",
        "# num_classes = 5\n",
        "# learning_rate = 1e-3\n",
        "# batch_size = 32\n",
        "# num_epochs = 10\n",
        "\n",
        "num_epochs = 15;\n",
        "batch_size = 10;\n",
        "learning_rate = 0.0005;\n",
        "num_classes = 3\n",
        "\n",
        "# Load Data\n",
        "dataset = DampDataset(dataframe = labels, root_dir = 'training-set-circle-6/images/', transform = damp_transform)\n",
        "test_dataset = DampDataset(dataframe = test_labels, root_dir = 'training-set-circle-6/testing-images/', transform = damp_transform)\n",
        "\n",
        "dataset_sizes = {'train': len(dataset), 'val':len(test_dataset)}"
      ],
      "execution_count": null,
      "outputs": []
    },
    {
      "cell_type": "code",
      "metadata": {
        "id": "DkSeuPkYV6pW",
        "colab": {
          "base_uri": "https://localhost:8080/"
        },
        "outputId": "c16da52f-2434-45fd-92a4-dee2ead9152f"
      },
      "source": [
        "\n",
        "# Create the dataloaders\n",
        "train_loader = DataLoader(dataset=dataset, batch_size=batch_size, shuffle=True)\n",
        "test_loader = DataLoader(dataset=test_dataset, batch_size=batch_size, shuffle=True)\n",
        "\n",
        "dataloaders = {'train':train_loader, 'val':test_loader}\n",
        "print(dataloaders)"
      ],
      "execution_count": null,
      "outputs": [
        {
          "output_type": "stream",
          "text": [
            "{'train': <torch.utils.data.dataloader.DataLoader object at 0x7f47b8ed5e50>, 'val': <torch.utils.data.dataloader.DataLoader object at 0x7f47b8ed5bd0>}\n"
          ],
          "name": "stdout"
        }
      ]
    },
    {
      "cell_type": "code",
      "metadata": {
        "id": "ygbtq4pcIZGO"
      },
      "source": [
        "# This inherits from AlexNet not CNN - not sure what the difference is, find that out\n",
        "class AlexNet(nn.Module):\n",
        "    def __init__(self, num_classes=5):\n",
        "        super(AlexNet, self).__init__()\n",
        "    \n",
        "        self.features = nn.Sequential(nn.Conv2d(3, 64, kernel_size=11, stride=4, padding=2),\n",
        "                                      nn.ReLU(inplace=True),\n",
        "                                      nn.MaxPool2d(kernel_size=3, stride=2),\n",
        "                                      nn.Conv2d(64, 192, kernel_size=5, padding=2),\n",
        "                                      nn.ReLU(inplace=True),\n",
        "                                      nn.MaxPool2d(kernel_size=3, stride=2),\n",
        "                                      nn.Conv2d(192, 384, kernel_size=3, padding=1),\n",
        "                                      nn.ReLU(inplace=True),\n",
        "                                      nn.Conv2d(384, 256, kernel_size=3, padding=1),\n",
        "                                      nn.ReLU(inplace=True),\n",
        "                                      nn.Conv2d(256, 256, kernel_size=3, padding=1),\n",
        "                                      nn.ReLU(inplace=True),\n",
        "                                      nn.MaxPool2d(kernel_size=3, stride=2),)\n",
        "    \n",
        "        self.avgpool = nn.AdaptiveAvgPool2d((6, 6))\n",
        "        \n",
        "        self.classifier = nn.Sequential(nn.Dropout(),\n",
        "                                        nn.Linear(256 * 6 * 6, 4096),\n",
        "                                        nn.ReLU(inplace=True),\n",
        "                                        nn.Dropout(),\n",
        "                                        nn.Linear(4096, 4096),\n",
        "                                        nn.ReLU(inplace=True),\n",
        "                                        nn.Linear(4096, num_classes),)\n",
        "    \n",
        "    def forward(self, x):\n",
        "        x = self.features(x)\n",
        "        x = self.avgpool(x)\n",
        "        x = x.view(x.size(0), 256 * 6 * 6)\n",
        "        x = self.classifier(x)\n",
        "        return x\n"
      ],
      "execution_count": null,
      "outputs": []
    },
    {
      "cell_type": "code",
      "metadata": {
        "id": "eBfxr-MN6X27",
        "colab": {
          "base_uri": "https://localhost:8080/",
          "height": 83,
          "referenced_widgets": [
            "aaa2bad8809840f4afcd61b01b47b680",
            "b0ca6b8fcb754cde8cf65da4c3f4e134",
            "d6114c46a08c415ebd5aabfa6eaafdaf",
            "b66139df248c485dbc70ec64165a21bc",
            "7f0ad945461a48939ba4e99a7fbc0d5b",
            "8546eca9b41a4cf29cc691c3aa197077",
            "8663078455d44c49b3f062d7088620a8",
            "8637a58dc6f440909bb2e33780f579cc"
          ]
        },
        "outputId": "6076f964-ced2-4041-aacb-c1fdaa06f890"
      },
      "source": [
        "#instance of the Conv Net\n",
        "cnn = AlexNet()\n",
        "cnn.cuda()\n",
        "\n",
        "# Model\n",
        "model = torchvision.models.googlenet(pretrained=True)\n",
        "model.to(device)\n",
        "\n",
        "#loss function and optimizer\n",
        "criterion = nn.CrossEntropyLoss();\n",
        "optimizer = torch.optim.Adam(cnn.parameters(), lr=learning_rate);\n",
        "# Decay LR by a factor of 0.1 every 7 epochs\n",
        "exp_lr_scheduler = lr_scheduler.StepLR(optimizer, step_size=7, gamma=0.1)"
      ],
      "execution_count": null,
      "outputs": [
        {
          "output_type": "stream",
          "text": [
            "Downloading: \"https://download.pytorch.org/models/googlenet-1378be20.pth\" to /root/.cache/torch/hub/checkpoints/googlenet-1378be20.pth\n"
          ],
          "name": "stderr"
        },
        {
          "output_type": "display_data",
          "data": {
            "application/vnd.jupyter.widget-view+json": {
              "model_id": "aaa2bad8809840f4afcd61b01b47b680",
              "version_minor": 0,
              "version_major": 2
            },
            "text/plain": [
              "HBox(children=(FloatProgress(value=0.0, max=52147035.0), HTML(value='')))"
            ]
          },
          "metadata": {
            "tags": []
          }
        },
        {
          "output_type": "stream",
          "text": [
            "\n"
          ],
          "name": "stdout"
        }
      ]
    },
    {
      "cell_type": "code",
      "metadata": {
        "id": "aU9MtxUXDZwS"
      },
      "source": [
        "def train_model(model, criterion, optimizer, scheduler, num_epochs=25):\n",
        "    since = time.time()\n",
        "\n",
        "    best_model_wts = copy.deepcopy(model.state_dict())\n",
        "    best_acc = 0.0\n",
        "   \n",
        "\n",
        "    for epoch in range(num_epochs):\n",
        "        print('Epoch {}/{}'.format(epoch, num_epochs - 1))\n",
        "        print('-' * 10)\n",
        "\n",
        "        # Each epoch has a training and validation phase\n",
        "        for phase in ['train', 'val']:\n",
        "            if phase == 'train':\n",
        "                model.train()  # Set model to training mode\n",
        "            else:\n",
        "                model.eval()   # Set model to evaluate mode\n",
        "\n",
        "            running_loss = 0.0\n",
        "            running_corrects = 0\n",
        "\n",
        "            # Iterate over data.\n",
        "            for inputs, labels in dataloaders[phase]:\n",
        "                # inputs = inputs.to(device)\n",
        "                # labels = labels.to(device)\n",
        "                inputs, labels = inputs.cuda(), labels.cuda() \n",
        "                # zero the parameter gradients\n",
        "                optimizer.zero_grad()\n",
        "\n",
        "                # forward\n",
        "                # track history if only in train\n",
        "                with torch.set_grad_enabled(phase == 'train'):\n",
        "                    outputs = model(inputs)\n",
        "                    _, preds = torch.max(outputs, 1)\n",
        "                    loss = criterion(outputs, labels)\n",
        "\n",
        "                    # backward + optimize only if in training phase\n",
        "                    if phase == 'train':\n",
        "                        loss.backward()\n",
        "                        optimizer.step()\n",
        "\n",
        "                # statistics\n",
        "                running_loss += loss.item() * inputs.size(0)\n",
        "                running_corrects += torch.sum(preds == labels.data)\n",
        "            if phase == 'train':\n",
        "                scheduler.step()\n",
        "\n",
        "            epoch_loss = running_loss / dataset_sizes[phase]\n",
        "            epoch_acc = running_corrects.double() / dataset_sizes[phase]\n",
        "\n",
        "            print('{} Loss: {:.4f} Acc: {:.4f}'.format(\n",
        "                phase, epoch_loss, epoch_acc))\n",
        "\n",
        "            # deep copy the model\n",
        "            if phase == 'val' and epoch_acc > best_acc:\n",
        "                best_acc = epoch_acc\n",
        "                best_epoch = epoch\n",
        "                best_model_wts = copy.deepcopy(model.state_dict())\n",
        "\n",
        "        print()\n",
        "\n",
        "    time_elapsed = time.time() - since\n",
        "    print('Training complete in {:.0f}m {:.0f}s'.format(\n",
        "        time_elapsed // 60, time_elapsed % 60))\n",
        "    print('Best val Acc: {:4f}'.format(best_acc))\n",
        "    print(f'Best epoch: {best_epoch}')\n",
        "\n",
        "    # load best model weights\n",
        "    model.load_state_dict(best_model_wts)\n",
        "    path = F\"/content/drive/MyDrive/PhD/models/model_five/best_model\" \n",
        "    torch.save(model.state_dict(), path)\n",
        "    print(f\"saved {best_epoch}\")\n",
        "    return model"
      ],
      "execution_count": null,
      "outputs": []
    },
    {
      "cell_type": "code",
      "metadata": {
        "colab": {
          "base_uri": "https://localhost:8080/"
        },
        "id": "n2YPqg2-URzi",
        "outputId": "6b4a6fea-2f52-40eb-9c70-13d8bd610819"
      },
      "source": [
        "from google.colab import drive\n",
        "drive.mount('/content/drive')"
      ],
      "execution_count": null,
      "outputs": [
        {
          "output_type": "stream",
          "text": [
            "Mounted at /content/drive\n"
          ],
          "name": "stdout"
        }
      ]
    },
    {
      "cell_type": "code",
      "metadata": {
        "colab": {
          "base_uri": "https://localhost:8080/",
          "height": 1000
        },
        "id": "QYy2EROEER8D",
        "outputId": "803ece56-1d8d-4bd5-be7c-dd02266c5a02"
      },
      "source": [
        "trained_model = train_model(model, criterion, optimizer, exp_lr_scheduler, num_epochs=50)"
      ],
      "execution_count": null,
      "outputs": [
        {
          "output_type": "stream",
          "text": [
            "Epoch 0/49\n",
            "----------\n",
            "train Loss: 7.4244 Acc: 0.0000\n",
            "val Loss: 7.7987 Acc: 0.0000\n",
            "\n",
            "Epoch 1/49\n",
            "----------\n",
            "train Loss: 7.4440 Acc: 0.0000\n",
            "val Loss: 7.8637 Acc: 0.0000\n",
            "\n",
            "Epoch 2/49\n",
            "----------\n",
            "train Loss: 7.5109 Acc: 0.0000\n",
            "val Loss: 7.8151 Acc: 0.0000\n",
            "\n",
            "Epoch 3/49\n",
            "----------\n",
            "train Loss: 7.5202 Acc: 0.0000\n",
            "val Loss: 7.7609 Acc: 0.0000\n",
            "\n",
            "Epoch 4/49\n",
            "----------\n",
            "train Loss: 7.4961 Acc: 0.0000\n",
            "val Loss: 7.7694 Acc: 0.0000\n",
            "\n",
            "Epoch 5/49\n",
            "----------\n",
            "train Loss: 7.5330 Acc: 0.0000\n",
            "val Loss: 7.7561 Acc: 0.0000\n",
            "\n",
            "Epoch 6/49\n",
            "----------\n",
            "train Loss: 7.3918 Acc: 0.0000\n",
            "val Loss: 7.7625 Acc: 0.0000\n",
            "\n",
            "Epoch 7/49\n",
            "----------\n",
            "train Loss: 7.5223 Acc: 0.0160\n",
            "val Loss: 7.7535 Acc: 0.0000\n",
            "\n",
            "Epoch 8/49\n",
            "----------\n",
            "train Loss: 7.4873 Acc: 0.0000\n",
            "val Loss: 7.7422 Acc: 0.0000\n",
            "\n",
            "Epoch 9/49\n",
            "----------\n",
            "train Loss: 7.4477 Acc: 0.0000\n",
            "val Loss: 7.7380 Acc: 0.0000\n",
            "\n",
            "Epoch 10/49\n",
            "----------\n",
            "train Loss: 7.5761 Acc: 0.0000\n",
            "val Loss: 7.7868 Acc: 0.0000\n",
            "\n",
            "Epoch 11/49\n",
            "----------\n",
            "train Loss: 7.5701 Acc: 0.0000\n",
            "val Loss: 7.7624 Acc: 0.0000\n",
            "\n",
            "Epoch 12/49\n",
            "----------\n",
            "train Loss: 7.5096 Acc: 0.0000\n",
            "val Loss: 7.7032 Acc: 0.0000\n",
            "\n",
            "Epoch 13/49\n",
            "----------\n",
            "train Loss: 7.4983 Acc: 0.0000\n",
            "val Loss: 7.7221 Acc: 0.0000\n",
            "\n",
            "Epoch 14/49\n",
            "----------\n",
            "train Loss: 7.5049 Acc: 0.0000\n",
            "val Loss: 7.7324 Acc: 0.0000\n",
            "\n",
            "Epoch 15/49\n",
            "----------\n",
            "train Loss: 7.5056 Acc: 0.0080\n",
            "val Loss: 7.7934 Acc: 0.0000\n",
            "\n",
            "Epoch 16/49\n",
            "----------\n",
            "train Loss: 7.5299 Acc: 0.0080\n",
            "val Loss: 7.7702 Acc: 0.0000\n",
            "\n",
            "Epoch 17/49\n",
            "----------\n",
            "train Loss: 7.5572 Acc: 0.0000\n",
            "val Loss: 7.7507 Acc: 0.0000\n",
            "\n",
            "Epoch 18/49\n",
            "----------\n",
            "train Loss: 7.4907 Acc: 0.0000\n",
            "val Loss: 7.7511 Acc: 0.0000\n",
            "\n",
            "Epoch 19/49\n",
            "----------\n",
            "train Loss: 7.4818 Acc: 0.0000\n",
            "val Loss: 7.7418 Acc: 0.0000\n",
            "\n",
            "Epoch 20/49\n",
            "----------\n",
            "train Loss: 7.4463 Acc: 0.0080\n",
            "val Loss: 7.7684 Acc: 0.0000\n",
            "\n",
            "Epoch 21/49\n",
            "----------\n",
            "train Loss: 7.5058 Acc: 0.0000\n",
            "val Loss: 7.8032 Acc: 0.0000\n",
            "\n",
            "Epoch 22/49\n",
            "----------\n",
            "train Loss: 7.4866 Acc: 0.0000\n",
            "val Loss: 7.8014 Acc: 0.0000\n",
            "\n",
            "Epoch 23/49\n",
            "----------\n",
            "train Loss: 7.5976 Acc: 0.0000\n",
            "val Loss: 7.7810 Acc: 0.0000\n",
            "\n",
            "Epoch 24/49\n",
            "----------\n",
            "train Loss: 7.4858 Acc: 0.0000\n",
            "val Loss: 7.7760 Acc: 0.0000\n",
            "\n",
            "Epoch 25/49\n",
            "----------\n",
            "train Loss: 7.4775 Acc: 0.0000\n",
            "val Loss: 7.8041 Acc: 0.0000\n",
            "\n",
            "Epoch 26/49\n",
            "----------\n",
            "train Loss: 7.4603 Acc: 0.0000\n",
            "val Loss: 7.8082 Acc: 0.0000\n",
            "\n",
            "Epoch 27/49\n",
            "----------\n",
            "train Loss: 7.5264 Acc: 0.0000\n",
            "val Loss: 7.7777 Acc: 0.0000\n",
            "\n",
            "Epoch 28/49\n",
            "----------\n",
            "train Loss: 7.5861 Acc: 0.0000\n",
            "val Loss: 7.7508 Acc: 0.0000\n",
            "\n",
            "Epoch 29/49\n",
            "----------\n",
            "train Loss: 7.4310 Acc: 0.0000\n",
            "val Loss: 7.7415 Acc: 0.0000\n",
            "\n",
            "Epoch 30/49\n",
            "----------\n",
            "train Loss: 7.5492 Acc: 0.0000\n",
            "val Loss: 7.8147 Acc: 0.0000\n",
            "\n",
            "Epoch 31/49\n",
            "----------\n",
            "train Loss: 7.4890 Acc: 0.0000\n",
            "val Loss: 7.7521 Acc: 0.0000\n",
            "\n",
            "Epoch 32/49\n",
            "----------\n",
            "train Loss: 7.5639 Acc: 0.0000\n",
            "val Loss: 7.7691 Acc: 0.0000\n",
            "\n",
            "Epoch 33/49\n",
            "----------\n",
            "train Loss: 7.6013 Acc: 0.0000\n",
            "val Loss: 7.7410 Acc: 0.0000\n",
            "\n",
            "Epoch 34/49\n",
            "----------\n",
            "train Loss: 7.4977 Acc: 0.0000\n",
            "val Loss: 7.7956 Acc: 0.0000\n",
            "\n",
            "Epoch 35/49\n",
            "----------\n",
            "train Loss: 7.5179 Acc: 0.0000\n",
            "val Loss: 7.7663 Acc: 0.0000\n",
            "\n",
            "Epoch 36/49\n",
            "----------\n",
            "train Loss: 7.4820 Acc: 0.0000\n",
            "val Loss: 7.7405 Acc: 0.0000\n",
            "\n",
            "Epoch 37/49\n",
            "----------\n",
            "train Loss: 7.5121 Acc: 0.0080\n",
            "val Loss: 7.7504 Acc: 0.0000\n",
            "\n",
            "Epoch 38/49\n",
            "----------\n",
            "train Loss: 7.5073 Acc: 0.0000\n",
            "val Loss: 7.7689 Acc: 0.0000\n",
            "\n",
            "Epoch 39/49\n",
            "----------\n",
            "train Loss: 7.5156 Acc: 0.0080\n",
            "val Loss: 7.7877 Acc: 0.0000\n",
            "\n",
            "Epoch 40/49\n",
            "----------\n",
            "train Loss: 7.5375 Acc: 0.0000\n",
            "val Loss: 7.8458 Acc: 0.0000\n",
            "\n",
            "Epoch 41/49\n",
            "----------\n",
            "train Loss: 7.5121 Acc: 0.0000\n",
            "val Loss: 7.7854 Acc: 0.0000\n",
            "\n",
            "Epoch 42/49\n",
            "----------\n",
            "train Loss: 7.5133 Acc: 0.0000\n",
            "val Loss: 7.7584 Acc: 0.0000\n",
            "\n",
            "Epoch 43/49\n",
            "----------\n",
            "train Loss: 7.5295 Acc: 0.0000\n",
            "val Loss: 7.7600 Acc: 0.0000\n",
            "\n",
            "Epoch 44/49\n",
            "----------\n",
            "train Loss: 7.4825 Acc: 0.0000\n",
            "val Loss: 7.8037 Acc: 0.0000\n",
            "\n",
            "Epoch 45/49\n",
            "----------\n",
            "train Loss: 7.4692 Acc: 0.0000\n",
            "val Loss: 7.7582 Acc: 0.0000\n",
            "\n",
            "Epoch 46/49\n",
            "----------\n",
            "train Loss: 7.5459 Acc: 0.0000\n",
            "val Loss: 7.7931 Acc: 0.0000\n",
            "\n",
            "Epoch 47/49\n",
            "----------\n",
            "train Loss: 7.5353 Acc: 0.0160\n",
            "val Loss: 7.7851 Acc: 0.0000\n",
            "\n",
            "Epoch 48/49\n",
            "----------\n",
            "train Loss: 7.5689 Acc: 0.0000\n",
            "val Loss: 7.7079 Acc: 0.0000\n",
            "\n",
            "Epoch 49/49\n",
            "----------\n",
            "train Loss: 7.5381 Acc: 0.0000\n",
            "val Loss: 7.7156 Acc: 0.0000\n",
            "\n",
            "Training complete in 12m 56s\n",
            "Best val Acc: 0.000000\n"
          ],
          "name": "stdout"
        },
        {
          "output_type": "error",
          "ename": "UnboundLocalError",
          "evalue": "ignored",
          "traceback": [
            "\u001b[0;31m---------------------------------------------------------------------------\u001b[0m",
            "\u001b[0;31mUnboundLocalError\u001b[0m                         Traceback (most recent call last)",
            "\u001b[0;32m<ipython-input-12-376396a13a40>\u001b[0m in \u001b[0;36m<module>\u001b[0;34m()\u001b[0m\n\u001b[0;32m----> 1\u001b[0;31m \u001b[0mtrained_model\u001b[0m \u001b[0;34m=\u001b[0m \u001b[0mtrain_model\u001b[0m\u001b[0;34m(\u001b[0m\u001b[0mmodel\u001b[0m\u001b[0;34m,\u001b[0m \u001b[0mcriterion\u001b[0m\u001b[0;34m,\u001b[0m \u001b[0moptimizer\u001b[0m\u001b[0;34m,\u001b[0m \u001b[0mexp_lr_scheduler\u001b[0m\u001b[0;34m,\u001b[0m \u001b[0mnum_epochs\u001b[0m\u001b[0;34m=\u001b[0m\u001b[0;36m50\u001b[0m\u001b[0;34m)\u001b[0m\u001b[0;34m\u001b[0m\u001b[0;34m\u001b[0m\u001b[0m\n\u001b[0m",
            "\u001b[0;32m<ipython-input-10-e8692e86cb33>\u001b[0m in \u001b[0;36mtrain_model\u001b[0;34m(model, criterion, optimizer, scheduler, num_epochs)\u001b[0m\n\u001b[1;32m     64\u001b[0m         time_elapsed // 60, time_elapsed % 60))\n\u001b[1;32m     65\u001b[0m     \u001b[0mprint\u001b[0m\u001b[0;34m(\u001b[0m\u001b[0;34m'Best val Acc: {:4f}'\u001b[0m\u001b[0;34m.\u001b[0m\u001b[0mformat\u001b[0m\u001b[0;34m(\u001b[0m\u001b[0mbest_acc\u001b[0m\u001b[0;34m)\u001b[0m\u001b[0;34m)\u001b[0m\u001b[0;34m\u001b[0m\u001b[0;34m\u001b[0m\u001b[0m\n\u001b[0;32m---> 66\u001b[0;31m     \u001b[0mprint\u001b[0m\u001b[0;34m(\u001b[0m\u001b[0;34mf'Best epoch: {best_epoch}'\u001b[0m\u001b[0;34m)\u001b[0m\u001b[0;34m\u001b[0m\u001b[0;34m\u001b[0m\u001b[0m\n\u001b[0m\u001b[1;32m     67\u001b[0m \u001b[0;34m\u001b[0m\u001b[0m\n\u001b[1;32m     68\u001b[0m     \u001b[0;31m# load best model weights\u001b[0m\u001b[0;34m\u001b[0m\u001b[0;34m\u001b[0m\u001b[0;34m\u001b[0m\u001b[0m\n",
            "\u001b[0;31mUnboundLocalError\u001b[0m: local variable 'best_epoch' referenced before assignment"
          ]
        }
      ]
    },
    {
      "cell_type": "code",
      "metadata": {
        "id": "bLyBInBf9xsO"
      },
      "source": [
        "# from torch.autograd import Variable\n",
        "\n",
        "\n",
        "# losses = [];\n",
        "# for epoch in range(num_epochs):\n",
        "#     for i, (images, labels) in enumerate(train_loader):\n",
        "#         # images, labels = images.cuda(), labels.cuda() - #UNCOMMENT when training with googlenet!\n",
        "#         images = images.float()\n",
        "#         # print(images.shape)\n",
        "#         # Forward + Backward + Optimize\n",
        "#         optimizer.zero_grad()\n",
        "#         outputs = cnn(images)\n",
        "#         loss = criterion(outputs, labels)\n",
        "#         loss.backward()\n",
        "#         optimizer.step()\n",
        "        \n",
        "#         losses.append(loss.item());\n",
        "        \n",
        "#         if (i+1) % 10 == 0:\n",
        "#             print ('Epoch : %d/%d, Iter : %d/%d,  Loss: %.4f' \n",
        "#                    %(epoch+1, num_epochs, i+1, len(dataset)//batch_size, loss.item()))"
      ],
      "execution_count": null,
      "outputs": []
    },
    {
      "cell_type": "code",
      "metadata": {
        "id": "gqO1sL7B0wCq"
      },
      "source": [
        "\n",
        "\n",
        "#Saving model to drive\n",
        "# model_save_name = 'alexnet-15e-b10.pt'\n",
        "# path = F\"/content/drive/MyDrive/PhD/models/model_four/{model_save_name}\" \n",
        "# torch.save(model.state_dict(), path)\n"
      ],
      "execution_count": null,
      "outputs": []
    },
    {
      "cell_type": "code",
      "metadata": {
        "id": "NUi8iy_3LdOP"
      },
      "source": [
        "# LOAD PREVIOUSLY TRAINED MODEL HERE\n",
        "# path = \"/content/drive/MyDrive/PhD/models/model_four/[].pt\" \n",
        "# model.load_state_dict(torch.load(path))\n",
        "# model.eval()"
      ],
      "execution_count": null,
      "outputs": []
    },
    {
      "cell_type": "code",
      "metadata": {
        "id": "2jh63cM2oyQv"
      },
      "source": [
        "# device = torch.device(\"cuda:0\" if torch.cuda.is_available() else \"cpu\")\n",
        "\n",
        "# Check accuracy on training to see how good our model is\n",
        "def check_accuracy(loader, model):\n",
        "    num_correct = 0\n",
        "    num_samples = 0\n",
        "    model.eval()\n",
        "    \n",
        "    with torch.no_grad():\n",
        "        for x, y in loader:\n",
        "            x = x.cuda()\n",
        "            y = y.cuda()\n",
        "            model.cuda()\n",
        "            scores = model(x)\n",
        "            _, predictions = scores.max(1)\n",
        "            num_correct += (predictions == y).sum()\n",
        "            num_samples += predictions.size(0)\n",
        "        \n",
        "        print(f'Got {num_correct} / {num_samples} with accuracy {float(num_correct)/float(num_samples)*100:.2f}') \n",
        "    \n",
        "    model.train()\n",
        "\n",
        "print(\"Checking accuracy on Training Set\")\n",
        "check_accuracy(train_loader, model)\n",
        "\n",
        "print(\"Checking accuracy on Test Set\")\n",
        "check_accuracy(test_loader, model)"
      ],
      "execution_count": null,
      "outputs": []
    },
    {
      "cell_type": "code",
      "metadata": {
        "id": "jNVxmt2T1Nm9"
      },
      "source": [
        "# test-the-model\n",
        "with torch.no_grad():\n",
        "    correct = 0\n",
        "    total = 0\n",
        "    for images, labels in train_loader:\n",
        "        images = images.cuda()\n",
        "        labels = labels.cuda()\n",
        "        outputs = cnn(images)\n",
        "        _, predicted = torch.max(outputs.data, 1)\n",
        "        total += labels.size(0)\n",
        "        correct += (predicted == labels).sum().item()\n",
        "          \n",
        "    print('Train Accuracy of the model: {} %'.format(100 * correct / total))\n",
        "\n",
        "# Save \n",
        "# torch.save(model.state_dict(), 'model.ckpt')"
      ],
      "execution_count": null,
      "outputs": []
    },
    {
      "cell_type": "markdown",
      "metadata": {
        "id": "6QsA0B8uHiMo"
      },
      "source": [
        "From here, these snippets are taken from this colab: https://colab.research.google.com/github/pytorch/tutorials/blob/gh-pages/_downloads/17a7c7cb80916fcdf921097825a0f562/cifar10_tutorial.ipynb#scrollTo=TzrMwxulq03d"
      ]
    },
    {
      "cell_type": "code",
      "metadata": {
        "id": "-t0PSlittSig"
      },
      "source": [
        "import matplotlib.pyplot as plt\n",
        "import numpy as np\n",
        "\n",
        "# see if this works...\n",
        "\n",
        "classes = ('none', 'some', 'a lot', 'substantial', 'extensive')\n",
        "\n",
        "dataiter = iter(test_loader)\n",
        "images, labels = dataiter.next()\n",
        "\n",
        "def imshow(img):\n",
        "    img = img / 2 + 0.5     # unnormalize\n",
        "    npimg = img.numpy()\n",
        "    plt.figure(figsize = [20,20])\n",
        "    plt.imshow(np.transpose(npimg, (1, 2, 0)))\n",
        "    plt.show()\n",
        "\n",
        "\n",
        "# print images\n",
        "imshow(torchvision.utils.make_grid(images, nrow=5))\n",
        "print('GroundTruth: ', ' '.join('%5s' % classes[labels[j]] for j in range(10)))"
      ],
      "execution_count": null,
      "outputs": []
    },
    {
      "cell_type": "code",
      "metadata": {
        "id": "vRxHPklV1djl"
      },
      "source": [
        "class_correct = list(0. for i in range(5))\n",
        "class_total = list(0. for i in range(5))\n",
        "with torch.no_grad():\n",
        "    for data in test_loader:\n",
        "        images, labels = data\n",
        "        images = images.cuda()\n",
        "        labels = labels.cuda()\n",
        "        outputs = cnn(images)\n",
        "        _, predicted = torch.max(outputs, 1)\n",
        "        c = (predicted == labels).squeeze()\n",
        "        for i in range(4):\n",
        "            label = labels[i]\n",
        "            class_correct[label] += c[i].item()\n",
        "            class_total[label] += 1\n",
        "\n",
        "\n",
        "for i in range(5):\n",
        "    # print(class_total[i])\n",
        "    print('Accuracy of %5s : %2d %%' % (classes[i], float(100) * class_correct[i] / class_total[i]))"
      ],
      "execution_count": null,
      "outputs": []
    }
  ]
}